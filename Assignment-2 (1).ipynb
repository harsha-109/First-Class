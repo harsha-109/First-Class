{
 "cells": [
  {
   "cell_type": "code",
   "execution_count": 1,
   "id": "9cee845f",
   "metadata": {},
   "outputs": [],
   "source": [
    "a=\"I've started learning python and its very interesting\""
   ]
  },
  {
   "cell_type": "code",
   "execution_count": 9,
   "id": "c2d97665",
   "metadata": {},
   "outputs": [
    {
     "data": {
      "text/plain": [
       "[\"I'VE\", 'STARTED', 'LEARNING', 'PYTHON', 'AND', 'ITS', 'VERY', 'INTERESTING']"
      ]
     },
     "execution_count": 9,
     "metadata": {},
     "output_type": "execute_result"
    }
   ],
   "source": [
    "a.upper().split()"
   ]
  },
  {
   "cell_type": "code",
   "execution_count": 3,
   "id": "91b1f198",
   "metadata": {},
   "outputs": [],
   "source": [
    "b=\"I'VE STARTED LEARNING PYTHON AND ITS VERY INTERESTING\""
   ]
  },
  {
   "cell_type": "code",
   "execution_count": 4,
   "id": "383af378",
   "metadata": {},
   "outputs": [
    {
     "data": {
      "text/plain": [
       "\"i've started learning python and its very interesting\""
      ]
     },
     "execution_count": 4,
     "metadata": {},
     "output_type": "execute_result"
    }
   ],
   "source": [
    "b.lower()"
   ]
  },
  {
   "cell_type": "code",
   "execution_count": 8,
   "id": "1532ef51",
   "metadata": {},
   "outputs": [
    {
     "data": {
      "text/plain": [
       "\"I'VE STARTED LEARNING PYTHON AND ITS VERY INTERESTING\""
      ]
     },
     "execution_count": 8,
     "metadata": {},
     "output_type": "execute_result"
    }
   ],
   "source": [
    "a.upper()"
   ]
  },
  {
   "cell_type": "code",
   "execution_count": 12,
   "id": "05b675eb",
   "metadata": {},
   "outputs": [],
   "source": [
    "c=\"Hello\""
   ]
  },
  {
   "cell_type": "code",
   "execution_count": 13,
   "id": "b1498096",
   "metadata": {},
   "outputs": [
    {
     "data": {
      "text/plain": [
       "True"
      ]
     },
     "execution_count": 13,
     "metadata": {},
     "output_type": "execute_result"
    }
   ],
   "source": [
    "c.isalpha()"
   ]
  },
  {
   "cell_type": "code",
   "execution_count": 14,
   "id": "1623a9a2",
   "metadata": {},
   "outputs": [],
   "source": [
    "d=\"Hello123\""
   ]
  },
  {
   "cell_type": "code",
   "execution_count": 16,
   "id": "99966a74",
   "metadata": {},
   "outputs": [
    {
     "data": {
      "text/plain": [
       "True"
      ]
     },
     "execution_count": 16,
     "metadata": {},
     "output_type": "execute_result"
    }
   ],
   "source": [
    "d.isalnum()"
   ]
  },
  {
   "cell_type": "code",
   "execution_count": 25,
   "id": "c507b9d5",
   "metadata": {},
   "outputs": [],
   "source": [
    "f=\"Hello\\t123\\tPython\""
   ]
  },
  {
   "cell_type": "code",
   "execution_count": 26,
   "id": "a0c97782",
   "metadata": {},
   "outputs": [
    {
     "data": {
      "text/plain": [
       "'Hello   123     Python'"
      ]
     },
     "execution_count": 26,
     "metadata": {},
     "output_type": "execute_result"
    }
   ],
   "source": [
    "f.expandtabs()"
   ]
  },
  {
   "cell_type": "code",
   "execution_count": 17,
   "id": "1500315a",
   "metadata": {},
   "outputs": [],
   "source": [
    "e=\"  Hello  \""
   ]
  },
  {
   "cell_type": "code",
   "execution_count": 22,
   "id": "2b862b96",
   "metadata": {},
   "outputs": [
    {
     "data": {
      "text/plain": [
       "'Hello'"
      ]
     },
     "execution_count": 22,
     "metadata": {},
     "output_type": "execute_result"
    }
   ],
   "source": [
    "e.strip()"
   ]
  },
  {
   "cell_type": "code",
   "execution_count": 23,
   "id": "b019d7b4",
   "metadata": {},
   "outputs": [
    {
     "data": {
      "text/plain": [
       "'Hello  '"
      ]
     },
     "execution_count": 23,
     "metadata": {},
     "output_type": "execute_result"
    }
   ],
   "source": [
    "e.lstrip()"
   ]
  },
  {
   "cell_type": "code",
   "execution_count": 24,
   "id": "7e415afa",
   "metadata": {},
   "outputs": [
    {
     "data": {
      "text/plain": [
       "'  Hello'"
      ]
     },
     "execution_count": 24,
     "metadata": {},
     "output_type": "execute_result"
    }
   ],
   "source": [
    "e.rstrip()"
   ]
  },
  {
   "cell_type": "code",
   "execution_count": 28,
   "id": "02614e69",
   "metadata": {},
   "outputs": [],
   "source": [
    "g=\"HelloUniverse\""
   ]
  },
  {
   "cell_type": "code",
   "execution_count": 29,
   "id": "846bbd99",
   "metadata": {},
   "outputs": [
    {
     "data": {
      "text/plain": [
       "'HelloWorld'"
      ]
     },
     "execution_count": 29,
     "metadata": {},
     "output_type": "execute_result"
    }
   ],
   "source": [
    "g.replace(\"Universe\",\"World\")"
   ]
  },
  {
   "cell_type": "code",
   "execution_count": 30,
   "id": "74de1a67",
   "metadata": {},
   "outputs": [],
   "source": [
    "h=\"  Hello  \""
   ]
  },
  {
   "cell_type": "code",
   "execution_count": 32,
   "id": "a7047a10",
   "metadata": {},
   "outputs": [
    {
     "data": {
      "text/plain": [
       "'#####  Hello  ######'"
      ]
     },
     "execution_count": 32,
     "metadata": {},
     "output_type": "execute_result"
    }
   ],
   "source": [
    "h.center(20,\"#\")"
   ]
  },
  {
   "cell_type": "code",
   "execution_count": null,
   "id": "d08609e5",
   "metadata": {},
   "outputs": [],
   "source": []
  }
 ],
 "metadata": {
  "kernelspec": {
   "display_name": "Python 3 (ipykernel)",
   "language": "python",
   "name": "python3"
  },
  "language_info": {
   "codemirror_mode": {
    "name": "ipython",
    "version": 3
   },
   "file_extension": ".py",
   "mimetype": "text/x-python",
   "name": "python",
   "nbconvert_exporter": "python",
   "pygments_lexer": "ipython3",
   "version": "3.10.5"
  }
 },
 "nbformat": 4,
 "nbformat_minor": 5
}
